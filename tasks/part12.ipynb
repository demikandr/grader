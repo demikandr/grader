{
 "cells": [
  {
   "cell_type": "code",
   "execution_count": 35,
   "metadata": {
    "collapsed": true
   },
   "outputs": [],
   "source": [
    "import sqlite3\n",
    "import pandas as pd\n",
    "import numpy as np"
   ]
  },
  {
   "cell_type": "code",
   "execution_count": 73,
   "metadata": {},
   "outputs": [
    {
     "data": {
      "text/html": [
       "<div>\n",
       "<style scoped>\n",
       "    .dataframe tbody tr th:only-of-type {\n",
       "        vertical-align: middle;\n",
       "    }\n",
       "\n",
       "    .dataframe tbody tr th {\n",
       "        vertical-align: top;\n",
       "    }\n",
       "\n",
       "    .dataframe thead th {\n",
       "        text-align: right;\n",
       "    }\n",
       "</style>\n",
       "<table border=\"1\" class=\"dataframe\">\n",
       "  <thead>\n",
       "    <tr style=\"text-align: right;\">\n",
       "      <th></th>\n",
       "      <th>school</th>\n",
       "      <th>sex</th>\n",
       "      <th>age</th>\n",
       "      <th>address</th>\n",
       "      <th>famsize</th>\n",
       "      <th>Pstatus</th>\n",
       "      <th>Medu</th>\n",
       "      <th>Fedu</th>\n",
       "      <th>Mjob</th>\n",
       "      <th>Fjob</th>\n",
       "      <th>...</th>\n",
       "      <th>famrel</th>\n",
       "      <th>freetime</th>\n",
       "      <th>goout</th>\n",
       "      <th>Dalc</th>\n",
       "      <th>Walc</th>\n",
       "      <th>health</th>\n",
       "      <th>absences</th>\n",
       "      <th>G1</th>\n",
       "      <th>G2</th>\n",
       "      <th>G3</th>\n",
       "    </tr>\n",
       "  </thead>\n",
       "  <tbody>\n",
       "    <tr>\n",
       "      <th>0</th>\n",
       "      <td>GP</td>\n",
       "      <td>False</td>\n",
       "      <td>18</td>\n",
       "      <td>U</td>\n",
       "      <td>False</td>\n",
       "      <td>A</td>\n",
       "      <td>4</td>\n",
       "      <td>4</td>\n",
       "      <td>at_home</td>\n",
       "      <td>teacher</td>\n",
       "      <td>...</td>\n",
       "      <td>4</td>\n",
       "      <td>3</td>\n",
       "      <td>4</td>\n",
       "      <td>1</td>\n",
       "      <td>1</td>\n",
       "      <td>3</td>\n",
       "      <td>6</td>\n",
       "      <td>5</td>\n",
       "      <td>6</td>\n",
       "      <td>6</td>\n",
       "    </tr>\n",
       "    <tr>\n",
       "      <th>1</th>\n",
       "      <td>GP</td>\n",
       "      <td>False</td>\n",
       "      <td>17</td>\n",
       "      <td>U</td>\n",
       "      <td>False</td>\n",
       "      <td>T</td>\n",
       "      <td>1</td>\n",
       "      <td>1</td>\n",
       "      <td>at_home</td>\n",
       "      <td>other</td>\n",
       "      <td>...</td>\n",
       "      <td>5</td>\n",
       "      <td>3</td>\n",
       "      <td>3</td>\n",
       "      <td>1</td>\n",
       "      <td>1</td>\n",
       "      <td>3</td>\n",
       "      <td>4</td>\n",
       "      <td>5</td>\n",
       "      <td>5</td>\n",
       "      <td>6</td>\n",
       "    </tr>\n",
       "    <tr>\n",
       "      <th>2</th>\n",
       "      <td>GP</td>\n",
       "      <td>False</td>\n",
       "      <td>15</td>\n",
       "      <td>U</td>\n",
       "      <td>False</td>\n",
       "      <td>T</td>\n",
       "      <td>1</td>\n",
       "      <td>1</td>\n",
       "      <td>at_home</td>\n",
       "      <td>other</td>\n",
       "      <td>...</td>\n",
       "      <td>4</td>\n",
       "      <td>3</td>\n",
       "      <td>2</td>\n",
       "      <td>2</td>\n",
       "      <td>3</td>\n",
       "      <td>3</td>\n",
       "      <td>10</td>\n",
       "      <td>7</td>\n",
       "      <td>8</td>\n",
       "      <td>10</td>\n",
       "    </tr>\n",
       "    <tr>\n",
       "      <th>3</th>\n",
       "      <td>GP</td>\n",
       "      <td>False</td>\n",
       "      <td>15</td>\n",
       "      <td>U</td>\n",
       "      <td>False</td>\n",
       "      <td>T</td>\n",
       "      <td>4</td>\n",
       "      <td>2</td>\n",
       "      <td>health</td>\n",
       "      <td>services</td>\n",
       "      <td>...</td>\n",
       "      <td>3</td>\n",
       "      <td>2</td>\n",
       "      <td>2</td>\n",
       "      <td>1</td>\n",
       "      <td>1</td>\n",
       "      <td>5</td>\n",
       "      <td>2</td>\n",
       "      <td>15</td>\n",
       "      <td>14</td>\n",
       "      <td>15</td>\n",
       "    </tr>\n",
       "    <tr>\n",
       "      <th>4</th>\n",
       "      <td>GP</td>\n",
       "      <td>False</td>\n",
       "      <td>16</td>\n",
       "      <td>U</td>\n",
       "      <td>False</td>\n",
       "      <td>T</td>\n",
       "      <td>3</td>\n",
       "      <td>3</td>\n",
       "      <td>other</td>\n",
       "      <td>other</td>\n",
       "      <td>...</td>\n",
       "      <td>4</td>\n",
       "      <td>3</td>\n",
       "      <td>2</td>\n",
       "      <td>1</td>\n",
       "      <td>2</td>\n",
       "      <td>5</td>\n",
       "      <td>4</td>\n",
       "      <td>6</td>\n",
       "      <td>10</td>\n",
       "      <td>10</td>\n",
       "    </tr>\n",
       "  </tbody>\n",
       "</table>\n",
       "<p>5 rows × 33 columns</p>\n",
       "</div>"
      ],
      "text/plain": [
       "  school    sex  age address  famsize Pstatus  Medu  Fedu     Mjob      Fjob  \\\n",
       "0     GP  False   18       U    False       A     4     4  at_home   teacher   \n",
       "1     GP  False   17       U    False       T     1     1  at_home     other   \n",
       "2     GP  False   15       U    False       T     1     1  at_home     other   \n",
       "3     GP  False   15       U    False       T     4     2   health  services   \n",
       "4     GP  False   16       U    False       T     3     3    other     other   \n",
       "\n",
       "  ... famrel freetime  goout  Dalc  Walc  health  absences  G1  G2  G3  \n",
       "0 ...      4        3      4     1     1       3         6   5   6   6  \n",
       "1 ...      5        3      3     1     1       3         4   5   5   6  \n",
       "2 ...      4        3      2     2     3       3        10   7   8  10  \n",
       "3 ...      3        2      2     1     1       5         2  15  14  15  \n",
       "4 ...      4        3      2     1     2       5         4   6  10  10  \n",
       "\n",
       "[5 rows x 33 columns]"
      ]
     },
     "execution_count": 73,
     "metadata": {},
     "output_type": "execute_result"
    }
   ],
   "source": [
    "df_student_mat = pd.read_csv('./data/student-mat.csv', sep=';')\n",
    "df_student_por = pd.read_csv('./data/student-por.csv', sep=';')\n",
    "binary_features = ['sex', 'famsize', 'schoolsup', 'famsup', 'paid', 'activities', 'nursery', 'higher', 'internet', 'romantic']\n",
    "\n",
    "for df in (df_student_mat, df_student_por):\n",
    "    for binary_feature in binary_features:\n",
    "        df[binary_feature] = df[binary_feature].apply(lambda x : x in ('yes', 'M', 'GE3'))\n",
    "df_student_mat.head()"
   ]
  },
  {
   "cell_type": "code",
   "execution_count": 74,
   "metadata": {
    "collapsed": true
   },
   "outputs": [],
   "source": [
    "! rm student.db\n",
    "connection = sqlite3.connect('student.db')\n",
    "cursor = connection.cursor()\n",
    "\n",
    "df_student_mat.to_sql('mat', connection, index=False)\n",
    "df_student_por.to_sql('por', connection, index=False)"
   ]
  },
  {
   "cell_type": "code",
   "execution_count": 128,
   "metadata": {
    "collapsed": true
   },
   "outputs": [],
   "source": [
    "connection.rollback()\n",
    "behavior_features = ['sex', 'age', 'famsize',\n",
    "                    'traveltime', 'studytime',\n",
    "                    'failures', 'paid', 'activities', 'higher',\n",
    "                    'internet', 'romantic', 'famrel', 'freetime',\n",
    "                    'goout', 'absences']\n",
    "alcohol_features = ['Dalc', 'Walc']\n",
    "cursor.execute('SELECT {0} FROM mat UNION ALL SELECT {0} FROM por'.format(','.join(behavior_features)))\n",
    "table_behavior = np.array(cursor.fetchall())\n",
    "cursor.execute('SELECT {0} FROM mat UNION ALL SELECT {0} FROM por'.format(','.join(alcohol_features)))\n",
    "table_alcohol = np.array(cursor.fetchall())\n",
    "\n",
    "# reasons = list(set(table_behavior[:, behavior_features.index('reason')]))\n",
    "# table_behavior[:, behavior_features.index('reason')] = [reasons.index(reason) for reason in table_behavior[:, behavior_features.index('reason')]]\n",
    "#featu = [f[0] for f in cursor.description] "
   ]
  },
  {
   "cell_type": "code",
   "execution_count": 129,
   "metadata": {},
   "outputs": [
    {
     "data": {
      "text/plain": [
       "<matplotlib.figure.Figure at 0x7f8501ec95f8>"
      ]
     },
     "metadata": {},
     "output_type": "display_data"
    },
    {
     "data": {
      "image/png": "[encoded data removed]",
      "text/plain": [
       "<matplotlib.figure.Figure at 0x7f8501eb9fd0>"
      ]
     },
     "metadata": {},
     "output_type": "display_data"
    }
   ],
   "source": [
    "import matplotlib.pyplot as plt\n",
    "%matplotlib inline\n",
    "\n",
    "plt.figure(figsize=(15,10))\n",
    "fig, ax = plt.subplots(1,3)\n",
    "fig.set_figwidth(15)\n",
    "for i in range(2):\n",
    "    ax[i].hist(table_alcohol[:,i])\n",
    "    ax[i].set_title(alcohol_features[i])\n",
    "    ax[i].set_xlabel('consumption')\n",
    "    ax[i].set_ylabel('number of students')\n",
    "ax[2].hist(table_alcohol.sum(axis=1))\n",
    "ax[2].set_title('sum of {0} and {1}'.format(*alcohol_features))\n",
    "ax[2].set_xlabel('consumption')\n",
    "ax[2].set_ylabel('number of students')\n",
    "\n",
    "plt.show()"
   ]
  },
  {
   "cell_type": "code",
   "execution_count": 153,
   "metadata": {},
   "outputs": [
    {
     "name": "stdout",
     "output_type": "stream",
     "text": [
      "0.998084291188\n"
     ]
    },
    {
     "data": {
      "text/plain": [
       "<matplotlib.figure.Figure at 0x7f85033cdb38>"
      ]
     },
     "metadata": {},
     "output_type": "display_data"
    },
    {
     "data": {
      "image/png": "[encoded data removed]",
      "text/plain": [
       "<matplotlib.figure.Figure at 0x7f85021dce10>"
      ]
     },
     "metadata": {},
     "output_type": "display_data"
    },
    {
     "name": "stdout",
     "output_type": "stream",
     "text": [
      "traveltime 0.201782136455\n",
      "famrel -0.110135681395\n",
      "age 0.292294984006\n",
      "absences 1.66605153081\n",
      "goout 0.825521107948\n"
     ]
    }
   ],
   "source": [
    "from sklearn.ensemble import RandomForestClassifier\n",
    "rfc = RandomForestClassifier(n_estimators=100)\n",
    "\n",
    "rfc.fit(table_behavior, table_alcohol.sum(axis=1) > 6)\n",
    "print(rfc.score(table_behavior, table_alcohol.sum(axis=1) > 6))\n",
    "plt.figure()\n",
    "\n",
    "def plot_feature_importance(feature_importances, features, mask):\n",
    "    feature_importances_sorted, features_sorted = zip(*sorted(zip(feature_importances, features)))\n",
    "    plt.figure(figsize=(15,5))\n",
    "    plt.plot(feature_importances_sorted)\n",
    "    plt.ylabel('importance')\n",
    "    plt.xticks(range(len(features_sorted)), features_sorted)\n",
    "    plt.show()\n",
    "    alcoholics = table_behavior[mask]\n",
    "    for feature in features_sorted[-5:]:\n",
    "        print(feature, alcoholics[:, features.index(feature)].mean() - table_behavior[:,features.index(feature)].mean())\n",
    "\n",
    "plot_feature_importance(rfc.feature_importances_, behavior_features, table_alcohol.sum(axis=1) > 6)"
   ]
  },
  {
   "cell_type": "markdown",
   "metadata": {},
   "source": [
    "Самые важные отличительные признаки сильно пьющих студентов - они много гуляют и в среднем чаще прогуливают школу, в среднем старше, имеют больше свободного времени и немного более плохие отношения в семье чем обычно. "
   ]
  },
  {
   "cell_type": "code",
   "execution_count": 154,
   "metadata": {},
   "outputs": [
    {
     "name": "stdout",
     "output_type": "stream",
     "text": [
      "0.998084291188\n"
     ]
    },
    {
     "data": {
      "image/png": "[encoded data removed]",
      "text/plain": [
       "<matplotlib.figure.Figure at 0x7f8501e544a8>"
      ]
     },
     "metadata": {},
     "output_type": "display_data"
    },
    {
     "name": "stdout",
     "output_type": "stream",
     "text": [
      "studytime 0.216394253853\n",
      "freetime -0.0732721874357\n",
      "age -0.181296606599\n",
      "absences -0.831285337723\n",
      "goout -0.401654564874\n"
     ]
    }
   ],
   "source": [
    "rfc = RandomForestClassifier(n_estimators=100)\n",
    "\n",
    "rfc.fit(table_behavior, table_alcohol.sum(axis=1) == 2)\n",
    "print(rfc.score(table_behavior, table_alcohol.sum(axis=1) == 2 ))\n",
    "\n",
    "plot_feature_importance(rfc.feature_importances_, behavior_features,  table_alcohol.sum(axis=1) == 2)"
   ]
  },
  {
   "cell_type": "markdown",
   "metadata": {},
   "source": [
    "Если говорить о непьющих, то самые главные их отличия - они мало гуляют с друзьями, редко прогуливают уроки, преимущественно молодежь. Кроме того они имеют меньше свободного времени и больше учатся."
   ]
  }
 ],
 "metadata": {
  "kernelspec": {
   "display_name": "Python 3",
   "language": "python",
   "name": "python3"
  },
  "language_info": {
   "codemirror_mode": {
    "name": "ipython",
    "version": 3
   },
   "file_extension": ".py",
   "mimetype": "text/x-python",
   "name": "python",
   "nbconvert_exporter": "python",
   "pygments_lexer": "ipython3",
   "version": "3.6.4"
  }
 },
 "nbformat": 4,
 "nbformat_minor": 2
}
