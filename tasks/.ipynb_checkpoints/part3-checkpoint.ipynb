{
 "cells": [
  {
   "cell_type": "code",
   "execution_count": 1,
   "metadata": {
    "collapsed": true
   },
   "outputs": [],
   "source": [
    "import sqlite3\n",
    "import numpy as np\n",
    "import matplotlib.pyplot as plt\n",
    "%matplotlib inline"
   ]
  },
  {
   "cell_type": "code",
   "execution_count": 2,
   "metadata": {
    "collapsed": true
   },
   "outputs": [],
   "source": [
    "connection = sqlite3.connect('student.db')\n",
    "cursor = connection.cursor()\n"
   ]
  },
  {
   "cell_type": "code",
   "execution_count": 68,
   "metadata": {
    "collapsed": true
   },
   "outputs": [],
   "source": [
    "important_features = ['school', 'sex', 'age', 'address', 'Medu', 'Fedu',\n",
    "       'Mjob', 'Fjob', 'reason', 'guardian', 'traveltime', 'studytime',\n",
    "       'failures', 'schoolsup', 'famsup', 'paid', 'activities', 'nursery',\n",
    "       'higher', 'internet', 'romantic', 'famrel', 'freetime', 'goout', 'Dalc',\n",
    "       'Walc', 'health', 'absences']\n",
    "important_features = ['goout', 'school', 'schoolsup', 'failures', 'higher']\n",
    "all_features = important_features\n",
    "cursor.execute('SELECT {0}, 1 AS subject FROM mat UNION ALL SELECT {0}, 2 AS subject FROM por'.format(','.join(all_features)))\n",
    "all_features.append('subject')\n",
    "table_all_features = [list(row) for row in cursor.fetchall()]\n",
    "for feature_idx, feature in enumerate(all_features):\n",
    "    if not isinstance(table_all_features[0][feature_idx], int):\n",
    "        feature_names = list(set((row[feature_idx] for row in table_all_features)))\n",
    "        for row in table_all_features:\n",
    "            row[feature_idx] = feature_names.index(row[feature_idx])\n",
    "table_all_features = np.array(table_all_features, dtype='float64')\n",
    "grade_features = ['G1', 'G2', 'G3']\n",
    "cursor.execute('SELECT {0} FROM mat UNION ALL SELECT {0} FROM por'.format(','.join(grade_features)))\n",
    "table_grades = np.array(cursor.fetchall(), dtype='float64')"
   ]
  },
  {
   "cell_type": "code",
   "execution_count": 70,
   "metadata": {},
   "outputs": [
    {
     "data": {
      "text/plain": [
       "(0.18909399141918432, 0.13920557333409722)"
      ]
     },
     "execution_count": 70,
     "metadata": {},
     "output_type": "execute_result"
    }
   ],
   "source": [
    "from sklearn.linear_model import Lasso\n",
    "from sklearn.ensemble import RandomForestRegressor\n",
    "from sklearn.model_selection import train_test_split\n",
    "\n",
    "train_X, test_X, train_y, test_y = train_test_split(table_all_features, table_grades, random_state=42)\n",
    "\n",
    "train_y_mean = train_y.mean(axis=0, keepdims=True)\n",
    "train_y -= train_y_mean\n",
    "test_y -= train_y_mean\n",
    "\n",
    "lasso = Lasso(0.1, fit_intercept=False)\n",
    "lasso.fit(train_X, train_y)\n",
    "lasso.score(train_X, train_y),\\\n",
    "lasso.score(test_X, test_y)"
   ]
  },
  {
   "cell_type": "code",
   "execution_count": 71,
   "metadata": {
    "collapsed": true
   },
   "outputs": [],
   "source": [
    "weights = lasso.coef_.copy()\n",
    "intercept = train_y_mean \n",
    "weights = np.concatenate([weights, intercept.T], axis=1)\n",
    "np.save('baseline_weights', weights)"
   ]
  }
 ],
 "metadata": {
  "kernelspec": {
   "display_name": "Python 3",
   "language": "python",
   "name": "python3"
  },
  "language_info": {
   "codemirror_mode": {
    "name": "ipython",
    "version": 3
   },
   "file_extension": ".py",
   "mimetype": "text/x-python",
   "name": "python",
   "nbconvert_exporter": "python",
   "pygments_lexer": "ipython3",
   "version": "3.6.4"
  }
 },
 "nbformat": 4,
 "nbformat_minor": 2
}
