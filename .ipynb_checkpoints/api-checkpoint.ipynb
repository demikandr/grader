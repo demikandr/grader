{
 "cells": [
  {
   "cell_type": "code",
   "execution_count": 22,
   "metadata": {},
   "outputs": [],
   "source": [
    "import numpy as np\n",
    "from collections import defaultdict\n",
    "\n",
    "\n",
    "feature_list = ['goout', 'school', 'schoolsup', 'failures', 'higher', 'subject', 'intercept']\n",
    "    \n",
    "class Model(object):\n",
    "\n",
    "    def __init__(self, model_path='baseline_weights.npy'):\n",
    "        self.load_weights(model_path)\n",
    "\n",
    "    def load_weights(self, path):\n",
    "        with open(path, 'rb') as f:\n",
    "            model_weights = np.load(f)\n",
    "        self.check_weights(model_weights)\n",
    "        self.weights = model_weights\n",
    "    \n",
    "    def check_weights(self, weights):\n",
    "        assert weights.shape == (3, len(feature_list))\n",
    "\n",
    "    def predict(self, X):\n",
    "        assert(isinstance(X, Student))\n",
    "        prediction = np.dot(self.weights, X)\n",
    "        return {'G1':prediction[0], 'G2':prediction[1], 'G3':prediction[2]}\n",
    "\n",
    "class Student(list):\n",
    "    \n",
    "    def __init__(self, **kwargs):\n",
    "        student_ = defaultdict(lambda : 0)\n",
    "        for feature_name, feature_value in kwargs.items():\n",
    "            assert(feature_name in feature_list)\n",
    "            student_[feature_name] = float(feature_value[0])\n",
    "        for feature_name in feature_list[:-1]:\n",
    "            self.append(student_[feature_name])\n",
    "        self.append(1)\n",
    "    \n"
   ]
  },
  {
   "cell_type": "code",
   "execution_count": 23,
   "metadata": {},
   "outputs": [],
   "source": [
    "from flask import Flask, request\n",
    "from flask_restful import Resource, Api\n",
    "\n",
    "from sqlalchemy import create_engine\n",
    "from json import dumps\n",
    "from flask.ext.jsonpify import jsonify\n",
    "\n",
    "app = Flask(__name__)\n",
    "api = Api(app)\n",
    "\n",
    "model = Model()\n",
    "\n",
    "class Predict(Resource):\n",
    "    \n",
    "    def __init__(self):\n",
    "        print(request.args)\n",
    "        self.student = Student(**request.args)\n",
    "\n",
    "    def get(self, **kwargs):\n",
    "        print(kwargs)\n",
    "        result = model.predict(self.student)\n",
    "        return jsonify(result)\n",
    "        \n",
    "\n",
    "class WeightUpdate(Resource):\n",
    "    def get(self, weights):\n",
    "        model.load_weights(weights)\n",
    "\n",
    "api.add_resource(Predict, '/predict/') # Route_3"
   ]
  },
  {
   "cell_type": "code",
   "execution_count": null,
   "metadata": {},
   "outputs": [
    {
     "name": "stderr",
     "output_type": "stream",
     "text": [
      " * Running on http://127.0.0.1:5002/ (Press CTRL+C to quit)\n",
      "127.0.0.1 - - [16/Jan/2018 23:48:33] \"GET /predict/?goout=3&failures=4 HTTP/1.1\" 200 -\n"
     ]
    },
    {
     "name": "stdout",
     "output_type": "stream",
     "text": [
      "ImmutableMultiDict([('goout', '3'), ('failures', '4')])\n",
      "{}\n"
     ]
    },
    {
     "name": "stderr",
     "output_type": "stream",
     "text": [
      "127.0.0.1 - - [16/Jan/2018 23:48:40] \"GET /predict/?goout=3&failures=3 HTTP/1.1\" 200 -\n"
     ]
    },
    {
     "name": "stdout",
     "output_type": "stream",
     "text": [
      "ImmutableMultiDict([('goout', '3'), ('failures', '3')])\n",
      "{}\n"
     ]
    }
   ],
   "source": [
    "app.run(port='5002')\n",
    "     "
   ]
  },
  {
   "cell_type": "code",
   "execution_count": null,
   "metadata": {
    "collapsed": true
   },
   "outputs": [],
   "source": []
  }
 ],
 "metadata": {
  "kernelspec": {
   "display_name": "Python 3",
   "language": "python",
   "name": "python3"
  },
  "language_info": {
   "codemirror_mode": {
    "name": "ipython",
    "version": 3
   },
   "file_extension": ".py",
   "mimetype": "text/x-python",
   "name": "python",
   "nbconvert_exporter": "python",
   "pygments_lexer": "ipython3",
   "version": "3.6.4"
  }
 },
 "nbformat": 4,
 "nbformat_minor": 2
}
